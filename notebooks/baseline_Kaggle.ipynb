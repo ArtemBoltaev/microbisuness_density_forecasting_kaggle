{
 "cells": [
  {
   "cell_type": "markdown",
   "metadata": {},
   "source": [
    "# 0.Import modules"
   ]
  },
  {
   "cell_type": "code",
   "execution_count": 2,
   "metadata": {},
   "outputs": [],
   "source": [
    "import pandas as pd\n",
    "import numpy as np\n",
    "import matplotlib.pyplot as plt\n",
    "%matplotlib inline\n",
    "import seaborn as sns\n",
    "from datetime import datetime\n",
    "pd.options.display.float_format = '{:.4f}'.format\n",
    "from tqdm import tqdm\n",
    "import warnings\n",
    "warnings.filterwarnings('ignore')\n",
    "import pickle\n",
    "from pathlib import Path\n",
    "\n",
    "\n",
    "import plotly.express as px\n",
    "import plotly.graph_objects as go"
   ]
  },
  {
   "cell_type": "markdown",
   "metadata": {},
   "source": [
    "# 1.Load data"
   ]
  },
  {
   "cell_type": "code",
   "execution_count": 3,
   "metadata": {},
   "outputs": [],
   "source": [
    "### Paths ###\n",
    "DATA_PATH = Path(\"../data\")\n",
    "TRAIN_RAW_PATH = DATA_PATH / \"raw/train.csv\"\n",
    "TEST_RAW_PATH = DATA_PATH / \"raw/test.csv\"\n",
    "SAMPLE_SUBMISSION_RAW_PATH = DATA_PATH / \"raw/sample_submission.csv\"\n",
    "\n",
    "DATA_PROCESSED_PATH = DATA_PATH / \"processed\""
   ]
  },
  {
   "cell_type": "code",
   "execution_count": 4,
   "metadata": {},
   "outputs": [],
   "source": [
    "train = pd.read_csv(TRAIN_RAW_PATH)\n",
    "test = pd.read_csv(TEST_RAW_PATH)\n",
    "census = pd.read_csv(DATA_PATH / \"raw/census_starter.csv\")\n",
    "sample = pd.read_csv(SAMPLE_SUBMISSION_RAW_PATH)\n",
    "\n",
    "train_revealed = pd.read_csv(DATA_PATH / \"raw/revealed_test.csv\")\n",
    "train = pd.concat([train, train_revealed])\n",
    "\n",
    "train['ds'] = pd.to_datetime(train['first_day_of_month'])\n",
    "train['year'] = train['ds'].dt.year\n",
    "train['month'] = train['ds'].dt.month"
   ]
  },
  {
   "cell_type": "markdown",
   "metadata": {},
   "source": [
    "# 2.Model"
   ]
  },
  {
   "cell_type": "code",
   "execution_count": 8,
   "metadata": {},
   "outputs": [],
   "source": [
    "# A bunch of functions\n",
    "\n",
    "def smape_vector(y_true, y_pred):\n",
    "    smape = np.zeros(len(y_true))\n",
    "    \n",
    "    numinator = np.abs(y_true - y_pred)\n",
    "    denominator = ((np.abs(y_true) + np.abs(y_pred)) / 2)\n",
    "\n",
    "    pos_ind = (y_true != 0) | (y_pred != 0)\n",
    "    smape[pos_ind] = numinator[pos_ind] / denominator[pos_ind]\n",
    "    \n",
    "    return 100 * smape\n",
    "\n",
    "\n",
    "def fix_new_population_in_january(submission):\n",
    "    COLS = ['GEO_ID','NAME','S0101_C01_026E']\n",
    "    df2020 = pd.read_csv(DATA_PATH / 'external/census/ACSST5Y2020.S0101-Data.csv',usecols=COLS)\n",
    "    df2020 = df2020.iloc[1:]\n",
    "    df2020['S0101_C01_026E'] = df2020['S0101_C01_026E'].astype('int')\n",
    "    \n",
    "    df2021 = pd.read_csv(DATA_PATH / 'external/census/ACSST5Y2021.S0101-Data.csv',usecols=COLS)\n",
    "    df2021 = df2021.iloc[1:]\n",
    "    df2021['S0101_C01_026E'] = df2021['S0101_C01_026E'].astype('int')\n",
    "    df2021.head()\n",
    "    \n",
    "    df2020['cfips'] = df2020.GEO_ID.apply(lambda x: int(x.split('US')[-1]) )\n",
    "    adult2020 = df2020.set_index('cfips').S0101_C01_026E.to_dict()\n",
    "\n",
    "    df2021['cfips'] = df2021.GEO_ID.apply(lambda x: int(x.split('US')[-1]) )\n",
    "    adult2021 = df2021.set_index('cfips').S0101_C01_026E.to_dict()\n",
    "    \n",
    "    submission['adult2020'] = submission.cfips.map(adult2020)\n",
    "    submission['adult2021'] = submission.cfips.map(adult2021)\n",
    "    \n",
    "    submission['microbusiness_density'] = submission['microbusiness_density'] * submission['adult2020'] / submission['adult2021']"
   ]
  },
  {
   "cell_type": "code",
   "execution_count": 9,
   "metadata": {},
   "outputs": [],
   "source": [
    "for lag in [-1, 1]:\n",
    "    train[f'microbusiness_density_lag_{lag}'] = train.groupby('cfips')['microbusiness_density'].shift(lag)"
   ]
  },
  {
   "cell_type": "code",
   "execution_count": 10,
   "metadata": {},
   "outputs": [],
   "source": [
    "train_data = train[(train.first_day_of_month >= '2022-09-01') & (train.first_day_of_month <= '2022-11-01')]"
   ]
  },
  {
   "cell_type": "code",
   "execution_count": 11,
   "metadata": {},
   "outputs": [],
   "source": [
    "# find the best multiplication for cfips for train_data\n",
    "mult_column_to_mult = {f'smape_{mult}': mult for mult in [1.00, 1.002, 1.004]}\n",
    "\n",
    "for mult_column, mult in mult_column_to_mult.items():\n",
    "    train_data['y_pred'] = train_data['microbusiness_density'] * mult\n",
    "    train_data[mult_column] = smape_vector(\n",
    "        y_true=train_data['microbusiness_density_lag_-1'],\n",
    "        y_pred=train_data['y_pred']\n",
    "    )\n",
    "    \n",
    "df_agg = train_data.groupby('cfips')[list(mult_column_to_mult.keys())].mean()\n",
    "\n",
    "df_agg['best_mult'] = df_agg.idxmin(axis=1).map(mult_column_to_mult)\n",
    "\n",
    "cfips_to_best_mult = dict(zip(df_agg.index, df_agg['best_mult']))\n"
   ]
  },
  {
   "cell_type": "code",
   "execution_count": 12,
   "metadata": {},
   "outputs": [
    {
     "data": {
      "text/plain": [
       "1.0000   0.4612\n",
       "1.0040   0.4163\n",
       "1.0020   0.1225\n",
       "Name: best_mult, dtype: float64"
      ]
     },
     "execution_count": 12,
     "metadata": {},
     "output_type": "execute_result"
    }
   ],
   "source": [
    "df_agg['best_mult'].value_counts(normalize=True)"
   ]
  },
  {
   "cell_type": "code",
   "execution_count": 13,
   "metadata": {},
   "outputs": [
    {
     "name": "stdout",
     "output_type": "stream",
     "text": [
      "0.46124401913875596\n"
     ]
    }
   ],
   "source": [
    "last_value = train.groupby('cfips', as_index=False)['microbusiness_density'].last().rename(\n",
    "    columns={'microbusiness_density': 'last_train_value'}\n",
    ")\n",
    "\n",
    "submission = test.merge(\n",
    "    last_value,\n",
    "    on='cfips'\n",
    ")\n",
    "\n",
    "submission['forecast_month_number'] = submission.groupby('cfips').cumcount() + 1\n",
    "\n",
    "submission['microbusiness_density'] = submission['last_train_value'] * submission['cfips'].map(cfips_to_best_mult)\n",
    "\n",
    "print(np.mean(submission['microbusiness_density'] == submission['last_train_value']))\n"
   ]
  },
  {
   "cell_type": "code",
   "execution_count": 14,
   "metadata": {},
   "outputs": [
    {
     "data": {
      "text/html": [
       "<div>\n",
       "<style scoped>\n",
       "    .dataframe tbody tr th:only-of-type {\n",
       "        vertical-align: middle;\n",
       "    }\n",
       "\n",
       "    .dataframe tbody tr th {\n",
       "        vertical-align: top;\n",
       "    }\n",
       "\n",
       "    .dataframe thead th {\n",
       "        text-align: right;\n",
       "    }\n",
       "</style>\n",
       "<table border=\"1\" class=\"dataframe\">\n",
       "  <thead>\n",
       "    <tr style=\"text-align: right;\">\n",
       "      <th></th>\n",
       "      <th>cfips</th>\n",
       "      <th>last_train_value</th>\n",
       "    </tr>\n",
       "  </thead>\n",
       "  <tbody>\n",
       "    <tr>\n",
       "      <th>0</th>\n",
       "      <td>1001</td>\n",
       "      <td>3.4709</td>\n",
       "    </tr>\n",
       "    <tr>\n",
       "      <th>1</th>\n",
       "      <td>1003</td>\n",
       "      <td>8.2506</td>\n",
       "    </tr>\n",
       "    <tr>\n",
       "      <th>2</th>\n",
       "      <td>1005</td>\n",
       "      <td>1.2523</td>\n",
       "    </tr>\n",
       "    <tr>\n",
       "      <th>3</th>\n",
       "      <td>1007</td>\n",
       "      <td>1.2872</td>\n",
       "    </tr>\n",
       "    <tr>\n",
       "      <th>4</th>\n",
       "      <td>1009</td>\n",
       "      <td>1.8521</td>\n",
       "    </tr>\n",
       "  </tbody>\n",
       "</table>\n",
       "</div>"
      ],
      "text/plain": [
       "   cfips  last_train_value\n",
       "0   1001            3.4709\n",
       "1   1003            8.2506\n",
       "2   1005            1.2523\n",
       "3   1007            1.2872\n",
       "4   1009            1.8521"
      ]
     },
     "execution_count": 14,
     "metadata": {},
     "output_type": "execute_result"
    }
   ],
   "source": [
    "last_value.head()"
   ]
  },
  {
   "cell_type": "code",
   "execution_count": 15,
   "metadata": {},
   "outputs": [
    {
     "data": {
      "text/html": [
       "<div>\n",
       "<style scoped>\n",
       "    .dataframe tbody tr th:only-of-type {\n",
       "        vertical-align: middle;\n",
       "    }\n",
       "\n",
       "    .dataframe tbody tr th {\n",
       "        vertical-align: top;\n",
       "    }\n",
       "\n",
       "    .dataframe thead th {\n",
       "        text-align: right;\n",
       "    }\n",
       "</style>\n",
       "<table border=\"1\" class=\"dataframe\">\n",
       "  <thead>\n",
       "    <tr style=\"text-align: right;\">\n",
       "      <th></th>\n",
       "      <th>row_id</th>\n",
       "      <th>cfips</th>\n",
       "      <th>first_day_of_month</th>\n",
       "      <th>last_train_value</th>\n",
       "      <th>forecast_month_number</th>\n",
       "      <th>microbusiness_density</th>\n",
       "    </tr>\n",
       "  </thead>\n",
       "  <tbody>\n",
       "    <tr>\n",
       "      <th>0</th>\n",
       "      <td>1001_2022-11-01</td>\n",
       "      <td>1001</td>\n",
       "      <td>2022-11-01</td>\n",
       "      <td>3.4709</td>\n",
       "      <td>1</td>\n",
       "      <td>3.4848</td>\n",
       "    </tr>\n",
       "    <tr>\n",
       "      <th>1</th>\n",
       "      <td>1001_2022-12-01</td>\n",
       "      <td>1001</td>\n",
       "      <td>2022-12-01</td>\n",
       "      <td>3.4709</td>\n",
       "      <td>2</td>\n",
       "      <td>3.4848</td>\n",
       "    </tr>\n",
       "    <tr>\n",
       "      <th>2</th>\n",
       "      <td>1001_2023-01-01</td>\n",
       "      <td>1001</td>\n",
       "      <td>2023-01-01</td>\n",
       "      <td>3.4709</td>\n",
       "      <td>3</td>\n",
       "      <td>3.4848</td>\n",
       "    </tr>\n",
       "    <tr>\n",
       "      <th>3</th>\n",
       "      <td>1001_2023-02-01</td>\n",
       "      <td>1001</td>\n",
       "      <td>2023-02-01</td>\n",
       "      <td>3.4709</td>\n",
       "      <td>4</td>\n",
       "      <td>3.4848</td>\n",
       "    </tr>\n",
       "    <tr>\n",
       "      <th>4</th>\n",
       "      <td>1001_2023-03-01</td>\n",
       "      <td>1001</td>\n",
       "      <td>2023-03-01</td>\n",
       "      <td>3.4709</td>\n",
       "      <td>5</td>\n",
       "      <td>3.4848</td>\n",
       "    </tr>\n",
       "  </tbody>\n",
       "</table>\n",
       "</div>"
      ],
      "text/plain": [
       "            row_id  cfips first_day_of_month  last_train_value  \\\n",
       "0  1001_2022-11-01   1001         2022-11-01            3.4709   \n",
       "1  1001_2022-12-01   1001         2022-12-01            3.4709   \n",
       "2  1001_2023-01-01   1001         2023-01-01            3.4709   \n",
       "3  1001_2023-02-01   1001         2023-02-01            3.4709   \n",
       "4  1001_2023-03-01   1001         2023-03-01            3.4709   \n",
       "\n",
       "   forecast_month_number  microbusiness_density  \n",
       "0                      1                 3.4848  \n",
       "1                      2                 3.4848  \n",
       "2                      3                 3.4848  \n",
       "3                      4                 3.4848  \n",
       "4                      5                 3.4848  "
      ]
     },
     "execution_count": 15,
     "metadata": {},
     "output_type": "execute_result"
    }
   ],
   "source": [
    "submission.head()"
   ]
  },
  {
   "cell_type": "code",
   "execution_count": 24,
   "metadata": {},
   "outputs": [],
   "source": [
    "fix_new_population_in_january(submission)\n",
    "\n",
    "submission[['row_id', 'microbusiness_density']].to_csv('submission.csv', index=False)"
   ]
  },
  {
   "cell_type": "code",
   "execution_count": 31,
   "metadata": {},
   "outputs": [
    {
     "data": {
      "text/html": [
       "<div>\n",
       "<style scoped>\n",
       "    .dataframe tbody tr th:only-of-type {\n",
       "        vertical-align: middle;\n",
       "    }\n",
       "\n",
       "    .dataframe tbody tr th {\n",
       "        vertical-align: top;\n",
       "    }\n",
       "\n",
       "    .dataframe thead th {\n",
       "        text-align: right;\n",
       "    }\n",
       "</style>\n",
       "<table border=\"1\" class=\"dataframe\">\n",
       "  <thead>\n",
       "    <tr style=\"text-align: right;\">\n",
       "      <th></th>\n",
       "      <th>row_id</th>\n",
       "      <th>cfips</th>\n",
       "      <th>first_day_of_month</th>\n",
       "      <th>last_train_value</th>\n",
       "      <th>forecast_month_number</th>\n",
       "      <th>microbusiness_density</th>\n",
       "      <th>adult2020</th>\n",
       "      <th>adult2021</th>\n",
       "    </tr>\n",
       "  </thead>\n",
       "  <tbody>\n",
       "    <tr>\n",
       "      <th>0</th>\n",
       "      <td>1001_2022-11-01</td>\n",
       "      <td>1001</td>\n",
       "      <td>2022-11-01</td>\n",
       "      <td>3.4709</td>\n",
       "      <td>1</td>\n",
       "      <td>3.3325</td>\n",
       "      <td>42496</td>\n",
       "      <td>44438</td>\n",
       "    </tr>\n",
       "    <tr>\n",
       "      <th>1</th>\n",
       "      <td>1001_2022-12-01</td>\n",
       "      <td>1001</td>\n",
       "      <td>2022-12-01</td>\n",
       "      <td>3.4709</td>\n",
       "      <td>2</td>\n",
       "      <td>3.3325</td>\n",
       "      <td>42496</td>\n",
       "      <td>44438</td>\n",
       "    </tr>\n",
       "    <tr>\n",
       "      <th>2</th>\n",
       "      <td>1001_2023-01-01</td>\n",
       "      <td>1001</td>\n",
       "      <td>2023-01-01</td>\n",
       "      <td>3.4709</td>\n",
       "      <td>3</td>\n",
       "      <td>3.3325</td>\n",
       "      <td>42496</td>\n",
       "      <td>44438</td>\n",
       "    </tr>\n",
       "    <tr>\n",
       "      <th>3</th>\n",
       "      <td>1001_2023-02-01</td>\n",
       "      <td>1001</td>\n",
       "      <td>2023-02-01</td>\n",
       "      <td>3.4709</td>\n",
       "      <td>4</td>\n",
       "      <td>3.3325</td>\n",
       "      <td>42496</td>\n",
       "      <td>44438</td>\n",
       "    </tr>\n",
       "    <tr>\n",
       "      <th>4</th>\n",
       "      <td>1001_2023-03-01</td>\n",
       "      <td>1001</td>\n",
       "      <td>2023-03-01</td>\n",
       "      <td>3.4709</td>\n",
       "      <td>5</td>\n",
       "      <td>3.3325</td>\n",
       "      <td>42496</td>\n",
       "      <td>44438</td>\n",
       "    </tr>\n",
       "    <tr>\n",
       "      <th>5</th>\n",
       "      <td>1001_2023-04-01</td>\n",
       "      <td>1001</td>\n",
       "      <td>2023-04-01</td>\n",
       "      <td>3.4709</td>\n",
       "      <td>6</td>\n",
       "      <td>3.3325</td>\n",
       "      <td>42496</td>\n",
       "      <td>44438</td>\n",
       "    </tr>\n",
       "    <tr>\n",
       "      <th>6</th>\n",
       "      <td>1001_2023-05-01</td>\n",
       "      <td>1001</td>\n",
       "      <td>2023-05-01</td>\n",
       "      <td>3.4709</td>\n",
       "      <td>7</td>\n",
       "      <td>3.3325</td>\n",
       "      <td>42496</td>\n",
       "      <td>44438</td>\n",
       "    </tr>\n",
       "    <tr>\n",
       "      <th>7</th>\n",
       "      <td>1001_2023-06-01</td>\n",
       "      <td>1001</td>\n",
       "      <td>2023-06-01</td>\n",
       "      <td>3.4709</td>\n",
       "      <td>8</td>\n",
       "      <td>3.3325</td>\n",
       "      <td>42496</td>\n",
       "      <td>44438</td>\n",
       "    </tr>\n",
       "    <tr>\n",
       "      <th>8</th>\n",
       "      <td>1003_2022-11-01</td>\n",
       "      <td>1003</td>\n",
       "      <td>2022-11-01</td>\n",
       "      <td>8.2506</td>\n",
       "      <td>1</td>\n",
       "      <td>7.9352</td>\n",
       "      <td>171296</td>\n",
       "      <td>178105</td>\n",
       "    </tr>\n",
       "    <tr>\n",
       "      <th>9</th>\n",
       "      <td>1003_2022-12-01</td>\n",
       "      <td>1003</td>\n",
       "      <td>2022-12-01</td>\n",
       "      <td>8.2506</td>\n",
       "      <td>2</td>\n",
       "      <td>7.9352</td>\n",
       "      <td>171296</td>\n",
       "      <td>178105</td>\n",
       "    </tr>\n",
       "  </tbody>\n",
       "</table>\n",
       "</div>"
      ],
      "text/plain": [
       "            row_id  cfips first_day_of_month  last_train_value  \\\n",
       "0  1001_2022-11-01   1001         2022-11-01            3.4709   \n",
       "1  1001_2022-12-01   1001         2022-12-01            3.4709   \n",
       "2  1001_2023-01-01   1001         2023-01-01            3.4709   \n",
       "3  1001_2023-02-01   1001         2023-02-01            3.4709   \n",
       "4  1001_2023-03-01   1001         2023-03-01            3.4709   \n",
       "5  1001_2023-04-01   1001         2023-04-01            3.4709   \n",
       "6  1001_2023-05-01   1001         2023-05-01            3.4709   \n",
       "7  1001_2023-06-01   1001         2023-06-01            3.4709   \n",
       "8  1003_2022-11-01   1003         2022-11-01            8.2506   \n",
       "9  1003_2022-12-01   1003         2022-12-01            8.2506   \n",
       "\n",
       "   forecast_month_number  microbusiness_density  adult2020  adult2021  \n",
       "0                      1                 3.3325      42496      44438  \n",
       "1                      2                 3.3325      42496      44438  \n",
       "2                      3                 3.3325      42496      44438  \n",
       "3                      4                 3.3325      42496      44438  \n",
       "4                      5                 3.3325      42496      44438  \n",
       "5                      6                 3.3325      42496      44438  \n",
       "6                      7                 3.3325      42496      44438  \n",
       "7                      8                 3.3325      42496      44438  \n",
       "8                      1                 7.9352     171296     178105  \n",
       "9                      2                 7.9352     171296     178105  "
      ]
     },
     "execution_count": 31,
     "metadata": {},
     "output_type": "execute_result"
    }
   ],
   "source": [
    "submission.head(10)"
   ]
  },
  {
   "cell_type": "code",
   "execution_count": null,
   "metadata": {},
   "outputs": [],
   "source": []
  }
 ],
 "metadata": {
  "kernelspec": {
   "display_name": "Autogluon",
   "language": "python",
   "name": "python3"
  },
  "language_info": {
   "codemirror_mode": {
    "name": "ipython",
    "version": 3
   },
   "file_extension": ".py",
   "mimetype": "text/x-python",
   "name": "python",
   "nbconvert_exporter": "python",
   "pygments_lexer": "ipython3",
   "version": "3.8.15"
  },
  "orig_nbformat": 4,
  "vscode": {
   "interpreter": {
    "hash": "1f62953b30295ee9cd3fc65d3ece1f1778a824720804e3fc9b8cfdbc3e69b0f3"
   }
  }
 },
 "nbformat": 4,
 "nbformat_minor": 2
}
